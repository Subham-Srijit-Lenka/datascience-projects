{
 "cells": [
  {
   "cell_type": "code",
   "execution_count": 1,
   "id": "8c734ae8-aac8-4ece-beab-85175fbacb1b",
   "metadata": {},
   "outputs": [],
   "source": [
    "import numpy as np\n",
    "import pandas as pd"
   ]
  },
  {
   "cell_type": "code",
   "execution_count": 9,
   "id": "d7dc5cd4-e186-4614-963c-27e9fd2f1849",
   "metadata": {},
   "outputs": [],
   "source": [
    "df = pd.read_csv(\"NetflixAnalysis/netflix_titles.csv\")\n"
   ]
  },
  {
   "cell_type": "code",
   "execution_count": 10,
   "id": "22ef6251-59e5-45b8-b10f-773d5d5b83da",
   "metadata": {},
   "outputs": [
    {
     "name": "stdout",
     "output_type": "stream",
     "text": [
      "  show_id     type                  title         director  \\\n",
      "0      s1    Movie   Dick Johnson Is Dead  Kirsten Johnson   \n",
      "1      s2  TV Show          Blood & Water              NaN   \n",
      "2      s3  TV Show              Ganglands  Julien Leclercq   \n",
      "3      s4  TV Show  Jailbirds New Orleans              NaN   \n",
      "4      s5  TV Show           Kota Factory              NaN   \n",
      "\n",
      "                                                cast        country  \\\n",
      "0                                                NaN  United States   \n",
      "1  Ama Qamata, Khosi Ngema, Gail Mabalane, Thaban...   South Africa   \n",
      "2  Sami Bouajila, Tracy Gotoas, Samuel Jouy, Nabi...            NaN   \n",
      "3                                                NaN            NaN   \n",
      "4  Mayur More, Jitendra Kumar, Ranjan Raj, Alam K...          India   \n",
      "\n",
      "           date_added  release_year rating   duration  \\\n",
      "0  September 25, 2021          2020  PG-13     90 min   \n",
      "1  September 24, 2021          2021  TV-MA  2 Seasons   \n",
      "2  September 24, 2021          2021  TV-MA   1 Season   \n",
      "3  September 24, 2021          2021  TV-MA   1 Season   \n",
      "4  September 24, 2021          2021  TV-MA  2 Seasons   \n",
      "\n",
      "                                           listed_in  \\\n",
      "0                                      Documentaries   \n",
      "1    International TV Shows, TV Dramas, TV Mysteries   \n",
      "2  Crime TV Shows, International TV Shows, TV Act...   \n",
      "3                             Docuseries, Reality TV   \n",
      "4  International TV Shows, Romantic TV Shows, TV ...   \n",
      "\n",
      "                                         description  \n",
      "0  As her father nears the end of his life, filmm...  \n",
      "1  After crossing paths at a party, a Cape Town t...  \n",
      "2  To protect his family from a powerful drug lor...  \n",
      "3  Feuds, flirtations and toilet talk go down amo...  \n",
      "4  In a city of coaching centers known to train I...  \n"
     ]
    }
   ],
   "source": [
    "print(df.head())"
   ]
  },
  {
   "cell_type": "code",
   "execution_count": 11,
   "id": "3a20a7cb-d812-4f6e-b285-b96d0cc7e532",
   "metadata": {},
   "outputs": [
    {
     "name": "stdout",
     "output_type": "stream",
     "text": [
      "<class 'pandas.core.frame.DataFrame'>\n",
      "RangeIndex: 8807 entries, 0 to 8806\n",
      "Data columns (total 12 columns):\n",
      " #   Column        Non-Null Count  Dtype \n",
      "---  ------        --------------  ----- \n",
      " 0   show_id       8807 non-null   object\n",
      " 1   type          8807 non-null   object\n",
      " 2   title         8807 non-null   object\n",
      " 3   director      6173 non-null   object\n",
      " 4   cast          7982 non-null   object\n",
      " 5   country       7976 non-null   object\n",
      " 6   date_added    8797 non-null   object\n",
      " 7   release_year  8807 non-null   int64 \n",
      " 8   rating        8803 non-null   object\n",
      " 9   duration      8804 non-null   object\n",
      " 10  listed_in     8807 non-null   object\n",
      " 11  description   8807 non-null   object\n",
      "dtypes: int64(1), object(11)\n",
      "memory usage: 825.8+ KB\n",
      "None\n"
     ]
    }
   ],
   "source": [
    "print(df.info())"
   ]
  },
  {
   "cell_type": "code",
   "execution_count": 13,
   "id": "23256600-86f7-412a-bdb4-79b547204d9a",
   "metadata": {},
   "outputs": [
    {
     "name": "stdout",
     "output_type": "stream",
     "text": [
      "0    PG-13\n",
      "1    TV-MA\n",
      "2    TV-MA\n",
      "3    TV-MA\n",
      "4    TV-MA\n",
      "Name: rating, dtype: object\n"
     ]
    }
   ],
   "source": [
    "print(df[\"rating\"].head())"
   ]
  },
  {
   "cell_type": "code",
   "execution_count": 14,
   "id": "9fb4a32f-468e-433a-b268-f8a401d7abc2",
   "metadata": {},
   "outputs": [
    {
     "data": {
      "text/plain": [
       "show_id            0\n",
       "type               0\n",
       "title              0\n",
       "director        2634\n",
       "cast             825\n",
       "country          831\n",
       "date_added        10\n",
       "release_year       0\n",
       "rating             4\n",
       "duration           3\n",
       "listed_in          0\n",
       "description        0\n",
       "dtype: int64"
      ]
     },
     "execution_count": 14,
     "metadata": {},
     "output_type": "execute_result"
    }
   ],
   "source": [
    "df.isnull().sum()\n"
   ]
  },
  {
   "cell_type": "code",
   "execution_count": 17,
   "id": "b092ed64-702f-4c67-bc49-a8c93fbedcd0",
   "metadata": {},
   "outputs": [],
   "source": [
    "#df[\"date_added\"] = pd.to_datetime(df[\"date_added\"])\n",
    "df[\"date_added\"] = pd.to_datetime(df[\"date_added\"].str.strip(), errors=\"coerce\")\n",
    "#allow flexible parsing"
   ]
  },
  {
   "cell_type": "code",
   "execution_count": 20,
   "id": "f7505f03-8b05-4eb8-8f76-d0f8b86f7881",
   "metadata": {},
   "outputs": [
    {
     "data": {
      "text/plain": [
       "type\n",
       "Movie      6131\n",
       "TV Show    2676\n",
       "Name: count, dtype: int64"
      ]
     },
     "execution_count": 20,
     "metadata": {},
     "output_type": "execute_result"
    }
   ],
   "source": [
    "df['type'].value_counts()"
   ]
  },
  {
   "cell_type": "code",
   "execution_count": 22,
   "id": "ea2d89fc-74e0-494f-95b0-4a6230042b6a",
   "metadata": {},
   "outputs": [
    {
     "data": {
      "image/png": "[encoded data removed]",
      "text/plain": [
       "<Figure size 640x480 with 1 Axes>"
      ]
     },
     "metadata": {},
     "output_type": "display_data"
    }
   ],
   "source": [
    "import seaborn as sns\n",
    "import matplotlib.pyplot as plt\n",
    "\n",
    "sns.countplot(x=\"type\", data=df)\n",
    "plt.show()\n"
   ]
  },
  {
   "cell_type": "code",
   "execution_count": 23,
   "id": "03fba181-cea1-4748-8b93-b582d04bc5e8",
   "metadata": {},
   "outputs": [
    {
     "data": {
      "text/plain": [
       "type\n",
       "Movie      6131\n",
       "TV Show    2676\n",
       "Name: count, dtype: int64"
      ]
     },
     "execution_count": 23,
     "metadata": {},
     "output_type": "execute_result"
    }
   ],
   "source": [
    "df[\"type\"].value_counts()"
   ]
  },
  {
   "cell_type": "code",
   "execution_count": 24,
   "id": "5606992c-37d5-40da-8b7d-f58eb3b5d165",
   "metadata": {},
   "outputs": [
    {
     "data": {
      "text/plain": [
       "<Axes: xlabel='year_added'>"
      ]
     },
     "execution_count": 24,
     "metadata": {},
     "output_type": "execute_result"
    },
    {
     "data": {
      "image/png": "[encoded data removed]",
      "text/plain": [
       "<Figure size 640x480 with 1 Axes>"
      ]
     },
     "metadata": {},
     "output_type": "display_data"
    }
   ],
   "source": [
    "df[\"year_added\"] = df[\"date_added\"].dt.year\n",
    "df[\"year_added\"].value_counts().sort_index().plot(kind=\"bar\")"
   ]
  },
  {
   "cell_type": "code",
   "execution_count": 25,
   "id": "fe98b01e-d5ef-48ee-945f-af0968df9ea6",
   "metadata": {},
   "outputs": [
    {
     "data": {
      "text/plain": [
       "director\n",
       "Rajiv Chilaka             19\n",
       "Raúl Campos, Jan Suter    18\n",
       "Marcus Raboy              16\n",
       "Suhas Kadav               16\n",
       "Jay Karas                 14\n",
       "Cathy Garcia-Molina       13\n",
       "Martin Scorsese           12\n",
       "Youssef Chahine           12\n",
       "Jay Chapman               12\n",
       "Steven Spielberg          11\n",
       "Name: count, dtype: int64"
      ]
     },
     "execution_count": 25,
     "metadata": {},
     "output_type": "execute_result"
    }
   ],
   "source": [
    "df[\"director\"].value_counts().head(10)\n"
   ]
  },
  {
   "cell_type": "code",
   "execution_count": 28,
   "id": "b1c91a83-da7f-4b20-a4d3-fff732fb4045",
   "metadata": {},
   "outputs": [
    {
     "data": {
      "text/plain": [
       "[('International Movies', 2752),\n",
       " ('Dramas', 2427),\n",
       " ('Comedies', 1674),\n",
       " ('International TV Shows', 1351),\n",
       " ('Documentaries', 869),\n",
       " ('Action & Adventure', 859),\n",
       " ('TV Dramas', 763),\n",
       " ('Independent Movies', 756),\n",
       " ('Children & Family Movies', 641),\n",
       " ('Romantic Movies', 616)]"
      ]
     },
     "execution_count": 28,
     "metadata": {},
     "output_type": "execute_result"
    }
   ],
   "source": [
    "from collections import Counter\n",
    "\n",
    "genres = []\n",
    "df[\"listed_in\"].dropna().apply(lambda x: genres.extend(x.split(\", \")))\n",
    "Counter(genres).most_common(10)"
   ]
  },
  {
   "cell_type": "code",
   "execution_count": 30,
   "id": "029e5e6b-8b70-4b7a-948c-c71c2a05e69b",
   "metadata": {},
   "outputs": [
    {
     "data": {
      "text/plain": [
       "[('Anupam Kher', 43),\n",
       " ('Shah Rukh Khan', 35),\n",
       " ('Julie Tejwani', 33),\n",
       " ('Naseeruddin Shah', 32),\n",
       " ('Takahiro Sakurai', 32),\n",
       " ('Rupa Bhimani', 31),\n",
       " ('Akshay Kumar', 30),\n",
       " ('Om Puri', 30),\n",
       " ('Yuki Kaji', 29),\n",
       " ('Amitabh Bachchan', 28)]"
      ]
     },
     "execution_count": 30,
     "metadata": {},
     "output_type": "execute_result"
    }
   ],
   "source": [
    "actors = []\n",
    "df[\"cast\"].dropna().apply(lambda x: actors.extend(x.split(\", \")))\n",
    "Counter(actors).most_common(10)"
   ]
  },
  {
   "cell_type": "code",
   "execution_count": 32,
   "id": "43b8deb4-9d1c-4476-a8b7-da02d1754412",
   "metadata": {},
   "outputs": [
    {
     "data": {
      "image/png": "[encoded data removed]",
      "text/plain": [
       "<Figure size 640x480 with 1 Axes>"
      ]
     },
     "metadata": {},
     "output_type": "display_data"
    }
   ],
   "source": [
    "sns.countplot(data=df, x=\"rating\", order=df[\"rating\"].value_counts().index)\n",
    "plt.xticks(rotation=45)\n",
    "plt.show()"
   ]
  },
  {
   "cell_type": "code",
   "execution_count": 33,
   "id": "0911b636-c298-4d03-acc5-bdd75a169bb1",
   "metadata": {},
   "outputs": [
    {
     "data": {
      "text/plain": [
       "International Movies        2752\n",
       "Dramas                      2427\n",
       "Comedies                    1674\n",
       "International TV Shows      1351\n",
       "Documentaries                869\n",
       "Action & Adventure           859\n",
       "TV Dramas                    763\n",
       "Independent Movies           756\n",
       "Children & Family Movies     641\n",
       "Romantic Movies              616\n",
       "Name: count, dtype: int64"
      ]
     },
     "execution_count": 33,
     "metadata": {},
     "output_type": "execute_result"
    }
   ],
   "source": [
    "genres = []\n",
    "df[\"listed_in\"].dropna().apply(lambda x: genres.extend(x.split(\", \")))\n",
    "pd.Series(genres).value_counts().head(10)"
   ]
  },
  {
   "cell_type": "code",
   "execution_count": 34,
   "id": "0d859b95-4898-428b-9457-0d34e7b6c86e",
   "metadata": {},
   "outputs": [
    {
     "data": {
      "image/png": "[encoded data removed]",
      "text/plain": [
       "<Figure size 640x480 with 1 Axes>"
      ]
     },
     "metadata": {},
     "output_type": "display_data"
    }
   ],
   "source": [
    "df[\"country\"].value_counts().head(10).plot(kind=\"bar\")\n",
    "plt.show()"
   ]
  },
  {
   "cell_type": "code",
   "execution_count": null,
   "id": "34941cef-6bd1-4fd1-a9ad-4d4adf93e0fb",
   "metadata": {},
   "outputs": [],
   "source": []
  }
 ],
 "metadata": {
  "kernelspec": {
   "display_name": "Python 3 (ipykernel)",
   "language": "python",
   "name": "python3"
  },
  "language_info": {
   "codemirror_mode": {
    "name": "ipython",
    "version": 3
   },
   "file_extension": ".py",
   "mimetype": "text/x-python",
   "name": "python",
   "nbconvert_exporter": "python",
   "pygments_lexer": "ipython3",
   "version": "3.13.7"
  }
 },
 "nbformat": 4,
 "nbformat_minor": 5
}
